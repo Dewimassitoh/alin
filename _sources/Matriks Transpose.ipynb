{
 "cells": [
  {
   "cell_type": "markdown",
   "metadata": {},
   "source": [
    "# Matriks Transpose\n",
    "Transpose Matriks atau Matriks Transpose adalah suatu  matriks yang dikerjakan pertukaran antara dimensi kolom dan baris."
   ]
  },
  {
   "cell_type": "markdown",
   "metadata": {},
   "source": [
    "**Contoh bentuk matriks transpose**"
   ]
  },
  {
   "cell_type": "markdown",
   "metadata": {},
   "source": [
    "\n",
    "\\begin{matrix}\n",
    "    \\\\\n",
    "    A^= \\begin{bmatrix}\n",
    "        1 & 2 & -3 \\\\\n",
    "        4 & -5 & 6 \\\\\n",
    "        7 & 8 & -9\n",
    "    \\end{bmatrix}\n",
    "   A^{T} = \\begin{bmatrix}\n",
    "        1 & 4 & 7 \\\\\n",
    "        2 & -5 & 8 \\\\\n",
    "        3 & 6 & 9\n",
    "    \\end{bmatrix}\n",
    "    \n",
    "    \\\\\n",
    "    \\\\\n",
    "\\end{matrix}"
   ]
  },
  {
   "cell_type": "markdown",
   "metadata": {},
   "source": [
    "**Karakteristik Matriks Transpose**\n",
    "1. $(A^{T})^{T}=A$\n",
    "2. $(A+B)^{T}=A^{T}+B^{T}$\n",
    "3. $(cA)^{T}=cA^{T}$\n",
    "4. $(AB)^{T}=B^{T}+A^{T}$\n"
   ]
  },
  {
   "cell_type": "markdown",
   "metadata": {},
   "source": [
    "**Objek array numpy memiliki metode bernama transpose**"
   ]
  },
  {
   "cell_type": "code",
   "execution_count": 1,
   "metadata": {},
   "outputs": [
    {
     "name": "stdout",
     "output_type": "stream",
     "text": [
      "[[ 1  2 -3]\n",
      " [ 4 -5  6]\n",
      " [ 7  8 -9]]\n"
     ]
    }
   ],
   "source": [
    "import numpy as np\n",
    "A=np.array([[1,2,-3],[4,-5,6],[7,8,-9]])\n",
    "print(A)"
   ]
  },
  {
   "cell_type": "code",
   "execution_count": 2,
   "metadata": {},
   "outputs": [
    {
     "name": "stdout",
     "output_type": "stream",
     "text": [
      "[[ 1  2 -3]\n",
      " [ 4 -5  6]\n",
      " [ 7  8 -9]]\n",
      "\n",
      "\n",
      "[[ 1  4  7]\n",
      " [ 2 -5  8]\n",
      " [-3  6 -9]]\n"
     ]
    }
   ],
   "source": [
    "A = np.array([[1,2,-3],[4,-5,6],[7,8,-9]])\n",
    "A_T= A.transpose()\n",
    "print(A)\n",
    "print('\\n')\n",
    "print(A_T)\n"
   ]
  }
 ],
 "metadata": {
  "kernelspec": {
   "display_name": "Python 3 (ipykernel)",
   "language": "python",
   "name": "python3"
  },
  "language_info": {
   "codemirror_mode": {
    "name": "ipython",
    "version": 3
   },
   "file_extension": ".py",
   "mimetype": "text/x-python",
   "name": "python",
   "nbconvert_exporter": "python",
   "pygments_lexer": "ipython3",
   "version": "3.10.13"
  }
 },
 "nbformat": 4,
 "nbformat_minor": 2
}
