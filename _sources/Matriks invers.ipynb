{
 "cells": [
  {
   "cell_type": "markdown",
   "metadata": {},
   "source": [
    "# Matriks invers"
   ]
  },
  {
   "cell_type": "markdown",
   "metadata": {},
   "source": [
    "\n",
    "\n",
    "Matriks yang jika dikalikan dengan matriks asalnya, akan menghasilkan metriks identitas.\n",
    "Dan sering digunakan dalam pemecahan sistem persamaan linier.\n",
    "\n",
    "AA^-1 = A^-1 x A = I\n",
    "\n",
    "I adalah matriks identitas yang memiliki elemen-elemen diagonal bernilai 1 dan elemen-elemen lainnya bernilai 0. Matriks invers ini hanya ada untuk matriks persegi yang tidak singular, determinannya tidak nol. Contoh :\n",
    "\n",
    "- Matriks dengan ordo(2 x2):\n",
    "\n",
    "\n",
    "<!-- \\begin{equation*} -->\n",
    "A=\n",
    "\\begin{bmatrix}\n",
    "a&b\\\\\n",
    "c&d\n",
    "\\end{bmatrix}\n",
    "<!-- \\end{equation*} -->\n",
    "\n",
    "\\begin{align*}\n",
    "A^-1\\ =\\frac{1}{ad-bc}\n",
    "\\begin{bmatrix}\n",
    "d&-b\\\\\n",
    "-c&a\n",
    "\\end{bmatrix}\n",
    "\\end{align*}\n"
   ]
  },
  {
   "cell_type": "markdown",
   "metadata": {},
   "source": [
    "## **Sifat-sifat matriks**  \n",
    "JIka A mempunyai matrik invers, k bilangan bulat positif, dan c adalah skalar $\\neq 0$ maka\n",
    "1. $A^{-1}$ diinverskan menjadi $(A^{-1})^{-1}=A$\n",
    "2. $A^{k}$ diinverskan menjadi $(A^{k})^{-1}=A^{k} A^{k} A^{k}=(A^{-1})^{k}=A^{-k}$\n",
    "3. $cA$ diinverskan dan $(cA)^{-1}=\\frac{1}{c}  A^{-1}, c\\neq 0$\n",
    "4. $A^{T}$ diinverskan dan $(A^{T})^{-1}=(A^{-1})^{T}$"
   ]
  },
  {
   "cell_type": "markdown",
   "metadata": {},
   "source": [
    "### Penyelsaian sistem persamaan linier mengunakan matriks invers\n",
    "membuat 4 soal persamaan dan 4 variabel dan cari solusinya pakai invers matriks\n",
    "algoritma eliminasi gauss\n",
    "\n",
    "Penyelesaian 4 persamaan linier menggunakan matrik invers.\n",
    "$Ax=b\\\\\n",
    "x=A^{-1}b\n",
    "$\n",
    "\n",
    "\\begin{align*}\n",
    "\\\\3x_1+x_2-2x_3-3x_4=4\\\\\n",
    "x_1+x_2-x_3-2x_4=-2\\\\\n",
    "-4x_1-x_2+3x_3-3x_4=3\\\\\n",
    "3x_1+x_2-2x_3+x_4=6\\\\\n",
    "\\end{align*}\n",
    "A=\n",
    "\\begin{bmatrix}\n",
    "3&1&-2&-3\\\\\n",
    "1&1&-1&-2\\\\\n",
    "-4&-1&3&-3\\\\\n",
    "3&1&-2&1\\\\\n",
    "\\end{bmatrix}\n",
    "\n",
    "X=\n",
    "\\begin{bmatrix}\n",
    "x_1\\\\\n",
    "x_2\\\\\n",
    "x_3\\\\\n",
    "x_4\\\\\n",
    "\\end{bmatrix}\n",
    "B=\n",
    "\\begin{bmatrix}\n",
    "4\\\\\n",
    "-2\\\\\n",
    "3\\\\\n",
    "6\\\\\n",
    "\\end{bmatrix}\n",
    "$\n",
    "\n"
   ]
  },
  {
   "cell_type": "code",
   "execution_count": 1,
   "metadata": {},
   "outputs": [],
   "source": [
    "def RowSwap(A,k,l):\n",
    "# =============================================================================\n",
    "#     A is a NumPy array.  RowSwap will return duplicate array with rows\n",
    "#     k and l swapped.\n",
    "# =============================================================================\n",
    "    m = A.shape[0]  # m is number of rows in A\n",
    "    n = A.shape[1]  # n is number of columns in A\n",
    "\n",
    "    B = np.copy(A).astype('float64')\n",
    "\n",
    "    for j in range(n):\n",
    "        temp = B[k][j]\n",
    "        B[k][j] = B[l][j]\n",
    "        B[l][j] = temp\n",
    "\n",
    "    return B\n",
    "\n",
    "def RowScale(A,k,scale):\n",
    "# =============================================================================\n",
    "#     A is a NumPy array.  RowScale will return duplicate array with the\n",
    "#     entries of row k multiplied by scale.\n",
    "# =============================================================================\n",
    "    m = A.shape[0]  # m is number of rows in A\n",
    "    n = A.shape[1]  # n is number of columns in A\n",
    "\n",
    "    B = np.copy(A).astype('float64')\n",
    "\n",
    "    for j in range(n):\n",
    "        B[k][j] *= scale\n",
    "\n",
    "    return B\n",
    "\n",
    "def RowAdd(A,k,l,scale):\n",
    "# =============================================================================\n",
    "#     A is a numpy array.  RowAdd will return duplicate array with row\n",
    "#     l modifed.  The new values will be the old values of row l added to\n",
    "#     the values of row k, multiplied by scale.\n",
    "# =============================================================================\n",
    "    m = A.shape[0]  # m is number of rows in A\n",
    "    n = A.shape[1]  # n is number of columns in A\n",
    "\n",
    "    B = np.copy(A).astype('float64')\n",
    "\n",
    "    for j in range(n):\n",
    "        B[l][j] += B[k][j]*scale\n",
    "\n",
    "    return B"
   ]
  },
  {
   "cell_type": "code",
   "execution_count": 2,
   "metadata": {},
   "outputs": [
    {
     "name": "stdout",
     "output_type": "stream",
     "text": [
      "[[ 3  1 -2 -3  1  0  0  0]\n",
      " [ 1  1 -1 -2  0  1  0  0]\n",
      " [-4 -1  3 -3  0  0  1  0]\n",
      " [ 3  1 -2  1  0  0  0  1]]\n"
     ]
    }
   ],
   "source": [
    "import numpy as np\n",
    "A = np.array([[3,1,-2,-3,1,0,0,0], [1,1,-1,-2,0,1,0,0], [-4,-1,3,-3,0,0,1,0], [3,1,-2,1,0,0,0,1]])\n",
    "print(A)"
   ]
  },
  {
   "cell_type": "code",
   "execution_count": 3,
   "metadata": {},
   "outputs": [
    {
     "name": "stdout",
     "output_type": "stream",
     "text": [
      "[[ 1.  1. -1. -2.  0.  1.  0.  0.]\n",
      " [ 3.  1. -2. -3.  1.  0.  0.  0.]\n",
      " [-4. -1.  3. -3.  0.  0.  1.  0.]\n",
      " [ 3.  1. -2.  1.  0.  0.  0.  1.]]\n"
     ]
    }
   ],
   "source": [
    "B = RowSwap(A, 0, 1)\n",
    "print(B)"
   ]
  },
  {
   "cell_type": "code",
   "execution_count": 4,
   "metadata": {},
   "outputs": [
    {
     "name": "stdout",
     "output_type": "stream",
     "text": [
      "[[ 1.  1. -1. -2.  0.  1.  0.  0.]\n",
      " [ 3.  1. -2. -3.  1.  0.  0.  0.]\n",
      " [-4. -1.  3. -3.  0.  0.  1.  0.]\n",
      " [ 0.  0.  0.  4. -1.  0.  0.  1.]]\n"
     ]
    }
   ],
   "source": [
    "C = RowAdd(B, 1, 3, -1)\n",
    "print(C)"
   ]
  },
  {
   "cell_type": "code",
   "execution_count": 5,
   "metadata": {},
   "outputs": [
    {
     "name": "stdout",
     "output_type": "stream",
     "text": [
      "[[  1.   1.  -1.  -2.   0.   1.   0.   0.]\n",
      " [  3.   1.  -2.  -3.   1.   0.   0.   0.]\n",
      " [  0.   3.  -1. -11.   0.   4.   1.   0.]\n",
      " [  0.   0.   0.   4.  -1.   0.   0.   1.]]\n"
     ]
    }
   ],
   "source": [
    "D = RowAdd(C, 0, 2, 4)\n",
    "print(D)"
   ]
  },
  {
   "cell_type": "code",
   "execution_count": 6,
   "metadata": {},
   "outputs": [
    {
     "name": "stdout",
     "output_type": "stream",
     "text": [
      "[[  1.   1.  -1.  -2.   0.   1.   0.   0.]\n",
      " [  0.  -2.   1.   3.   1.  -3.   0.   0.]\n",
      " [  0.   3.  -1. -11.   0.   4.   1.   0.]\n",
      " [  0.   0.   0.   4.  -1.   0.   0.   1.]]\n"
     ]
    }
   ],
   "source": [
    "E = RowAdd(D, 0, 1, -3)\n",
    "print(E)"
   ]
  },
  {
   "cell_type": "code",
   "execution_count": 7,
   "metadata": {},
   "outputs": [
    {
     "name": "stdout",
     "output_type": "stream",
     "text": [
      "[[  1.    1.   -1.   -2.    0.    1.    0.    0. ]\n",
      " [ -0.    1.   -0.5  -1.5  -0.5   1.5  -0.   -0. ]\n",
      " [  0.    3.   -1.  -11.    0.    4.    1.    0. ]\n",
      " [  0.    0.    0.    4.   -1.    0.    0.    1. ]]\n"
     ]
    }
   ],
   "source": [
    "F = RowScale(E, 1, -1/2)\n",
    "print(F)"
   ]
  },
  {
   "cell_type": "code",
   "execution_count": 8,
   "metadata": {},
   "outputs": [
    {
     "name": "stdout",
     "output_type": "stream",
     "text": [
      "[[ 1.   1.  -1.  -2.   0.   1.   0.   0. ]\n",
      " [-0.   1.  -0.5 -1.5 -0.5  1.5 -0.  -0. ]\n",
      " [ 0.   0.   0.5 -6.5  1.5 -0.5  1.   0. ]\n",
      " [ 0.   0.   0.   4.  -1.   0.   0.   1. ]]\n"
     ]
    }
   ],
   "source": [
    "G = RowAdd(F, 1, 2, -3)\n",
    "print(G)"
   ]
  },
  {
   "cell_type": "code",
   "execution_count": 9,
   "metadata": {},
   "outputs": [
    {
     "name": "stdout",
     "output_type": "stream",
     "text": [
      "[[ 1.   1.  -1.  -2.   0.   1.   0.   0. ]\n",
      " [ 0.   1.   0.  -8.   1.   1.   1.   0. ]\n",
      " [ 0.   0.   0.5 -6.5  1.5 -0.5  1.   0. ]\n",
      " [ 0.   0.   0.   4.  -1.   0.   0.   1. ]]\n"
     ]
    }
   ],
   "source": [
    "H = RowAdd(G, 2, 1, 1)\n",
    "print(H)"
   ]
  },
  {
   "cell_type": "code",
   "execution_count": 10,
   "metadata": {},
   "outputs": [
    {
     "name": "stdout",
     "output_type": "stream",
     "text": [
      "[[  1.   1.  -1.  -2.   0.   1.   0.   0.]\n",
      " [  0.   1.   0.  -8.   1.   1.   1.   0.]\n",
      " [  0.   0.   1. -13.   3.  -1.   2.   0.]\n",
      " [  0.   0.   0.   4.  -1.   0.   0.   1.]]\n"
     ]
    }
   ],
   "source": [
    "I = RowScale(H, 2, 2)\n",
    "print(I)"
   ]
  },
  {
   "cell_type": "code",
   "execution_count": 11,
   "metadata": {},
   "outputs": [
    {
     "name": "stdout",
     "output_type": "stream",
     "text": [
      "[[  1.     1.    -1.    -2.     0.     1.     0.     0.  ]\n",
      " [  0.     1.     0.    -8.     1.     1.     1.     0.  ]\n",
      " [  0.     0.     1.   -13.     3.    -1.     2.     0.  ]\n",
      " [  0.     0.     0.     1.    -0.25   0.     0.     0.25]]\n"
     ]
    }
   ],
   "source": [
    "J = RowScale(I, 3, 1/4)\n",
    "print(J)"
   ]
  },
  {
   "cell_type": "code",
   "execution_count": 12,
   "metadata": {},
   "outputs": [
    {
     "name": "stdout",
     "output_type": "stream",
     "text": [
      "[[ 1.    1.   -1.   -2.    0.    1.    0.    0.  ]\n",
      " [ 0.    1.    0.   -8.    1.    1.    1.    0.  ]\n",
      " [ 0.    0.    1.    0.   -0.25 -1.    2.    3.25]\n",
      " [ 0.    0.    0.    1.   -0.25  0.    0.    0.25]]\n"
     ]
    }
   ],
   "source": [
    "K = RowAdd(J, 3, 2, 13)\n",
    "print(K)"
   ]
  },
  {
   "cell_type": "code",
   "execution_count": 13,
   "metadata": {},
   "outputs": [
    {
     "name": "stdout",
     "output_type": "stream",
     "text": [
      "[[ 1.    1.   -1.   -2.    0.    1.    0.    0.  ]\n",
      " [ 0.    1.    0.    0.   -1.    1.    1.    2.  ]\n",
      " [ 0.    0.    1.    0.   -0.25 -1.    2.    3.25]\n",
      " [ 0.    0.    0.    1.   -0.25  0.    0.    0.25]]\n"
     ]
    }
   ],
   "source": [
    "L = RowAdd(K, 3, 1, 8)\n",
    "print(L)"
   ]
  },
  {
   "cell_type": "code",
   "execution_count": 14,
   "metadata": {},
   "outputs": [
    {
     "name": "stdout",
     "output_type": "stream",
     "text": [
      "[[ 1.    1.   -1.    0.   -0.5   1.    0.    0.5 ]\n",
      " [ 0.    1.    0.    0.   -1.    1.    1.    2.  ]\n",
      " [ 0.    0.    1.    0.   -0.25 -1.    2.    3.25]\n",
      " [ 0.    0.    0.    1.   -0.25  0.    0.    0.25]]\n"
     ]
    }
   ],
   "source": [
    "M = RowAdd(L, 3, 0, 2)\n",
    "print(M)"
   ]
  },
  {
   "cell_type": "code",
   "execution_count": 15,
   "metadata": {},
   "outputs": [
    {
     "name": "stdout",
     "output_type": "stream",
     "text": [
      "[[ 1.    1.    0.    0.   -0.75  0.    2.    3.75]\n",
      " [ 0.    1.    0.    0.   -1.    1.    1.    2.  ]\n",
      " [ 0.    0.    1.    0.   -0.25 -1.    2.    3.25]\n",
      " [ 0.    0.    0.    1.   -0.25  0.    0.    0.25]]\n"
     ]
    }
   ],
   "source": [
    "N = RowAdd(M, 2, 0, 1)\n",
    "print(N)"
   ]
  },
  {
   "cell_type": "code",
   "execution_count": 16,
   "metadata": {},
   "outputs": [
    {
     "name": "stdout",
     "output_type": "stream",
     "text": [
      "[[ 1.    0.    0.    0.    0.25 -1.    1.    1.75]\n",
      " [ 0.    1.    0.    0.   -1.    1.    1.    2.  ]\n",
      " [ 0.    0.    1.    0.   -0.25 -1.    2.    3.25]\n",
      " [ 0.    0.    0.    1.   -0.25  0.    0.    0.25]]\n"
     ]
    }
   ],
   "source": [
    "O = RowAdd(N,1,0,-1)\n",
    "print(O)"
   ]
  },
  {
   "cell_type": "code",
   "execution_count": 17,
   "metadata": {},
   "outputs": [
    {
     "name": "stdout",
     "output_type": "stream",
     "text": [
      "[[16.5]\n",
      " [ 9. ]\n",
      " [26.5]\n",
      " [ 0.5]]\n"
     ]
    }
   ],
   "source": [
    "P = np.array([[0.25,-1,1,1.75], [-1,1,1,2], [-0.25,-1,2,3.25], [-0.25,0,0,0.25]])\n",
    "Q = np.array([[4], [-2], [3], [6]])\n",
    "R = np.array([[3,1,-2,-3], [1,1,-1,-2], [-4,-1,3,-3], [3,1,-2,1]])\n",
    "print(P@Q)"
   ]
  },
  {
   "cell_type": "markdown",
   "metadata": {},
   "source": [
    "\n",
    "Matriks Inverse=\n",
    "\\begin{bmatrix}\n",
    "0.25&-1&1&1.75\\\\\n",
    "-1&1&1&2\\\\\n",
    "-0.25&-1&2&3.25\\\\\n",
    "-0.25&0&0&0.25\\\\\n",
    "\\end{bmatrix}\n",
    "\n",
    "X=\n",
    "\\begin{bmatrix}\n",
    "16.5\\\\\n",
    "9\\\\\n",
    "26.5\\\\\n",
    "0.5\\\\\n",
    "\\end{bmatrix}\n",
    "B=\n",
    "\\begin{bmatrix}\n",
    "4\\\\\n",
    "-2\\\\\n",
    "3\\\\\n",
    "6\\\\\n",
    "\\end{bmatrix}\n",
    "\n",
    "\n"
   ]
  },
  {
   "cell_type": "markdown",
   "metadata": {},
   "source": [
    "\n",
    "\n",
    "\\begin{align*}\n",
    "\\\\x_1+x_2=3\\\\\n",
    "2x_1+4x_2=8\\\\\n",
    "\\end{align*}\n",
    "A=\n",
    "\\begin{bmatrix}\n",
    "1&1\\\\\n",
    "2&4\\\\\n",
    "\\end{bmatrix}\n",
    "\n",
    "X=\n",
    "\\begin{bmatrix}\n",
    "x_1\\\\\n",
    "x_2\\\\\n",
    "\\end{bmatrix}\n",
    "\n",
    "B=\n",
    "\\begin{bmatrix}\n",
    "3\\\\\n",
    "8\\\\\n",
    "\\end{bmatrix}\n",
    "\n"
   ]
  },
  {
   "cell_type": "code",
   "execution_count": 18,
   "metadata": {},
   "outputs": [],
   "source": [
    "def RowSwap(A,k,l):\n",
    "# =============================================================================\n",
    "#     A is a NumPy array.  RowSwap will return duplicate array with rows\n",
    "#     k and l swapped.\n",
    "# =============================================================================\n",
    "    m = A.shape[0]  # m is number of rows in A\n",
    "    n = A.shape[1]  # n is number of columns in A\n",
    "\n",
    "    B = np.copy(A).astype('float64')\n",
    "\n",
    "    for j in range(n):\n",
    "        temp = B[k][j]\n",
    "        B[k][j] = B[l][j]\n",
    "        B[l][j] = temp\n",
    "\n",
    "    return B\n",
    "\n",
    "def RowScale(A,k,scale):\n",
    "# =============================================================================\n",
    "#     A is a NumPy array.  RowScale will return duplicate array with the\n",
    "#     entries of row k multiplied by scale.\n",
    "# =============================================================================\n",
    "    m = A.shape[0]  # m is number of rows in A\n",
    "    n = A.shape[1]  # n is number of columns in A\n",
    "\n",
    "    B = np.copy(A).astype('float64')\n",
    "\n",
    "    for j in range(n):\n",
    "        B[k][j] *= scale\n",
    "\n",
    "    return B\n",
    "\n",
    "def RowAdd(A,k,l,scale):\n",
    "# =============================================================================\n",
    "#     A is a numpy array.  RowAdd will return duplicate array with row\n",
    "#     l modifed.  The new values will be the old values of row l added to\n",
    "#     the values of row k, multiplied by scale.\n",
    "# =============================================================================\n",
    "    m = A.shape[0]  # m is number of rows in A\n",
    "    n = A.shape[1]  # n is number of columns in A\n",
    "\n",
    "    B = np.copy(A).astype('float64')\n",
    "\n",
    "    for j in range(n):\n",
    "        B[l][j] += B[k][j]*scale\n",
    "\n",
    "    return B"
   ]
  },
  {
   "cell_type": "code",
   "execution_count": 19,
   "metadata": {},
   "outputs": [
    {
     "name": "stdout",
     "output_type": "stream",
     "text": [
      "[[1 1 1 0]\n",
      " [2 4 0 1]]\n"
     ]
    }
   ],
   "source": [
    "import numpy as np\n",
    "A = np.array([[1,1,1,0],[2,4,0,1]])\n",
    "print(A)"
   ]
  },
  {
   "cell_type": "code",
   "execution_count": 20,
   "metadata": {},
   "outputs": [
    {
     "name": "stdout",
     "output_type": "stream",
     "text": [
      "[[ 1.  1.  1.  0.]\n",
      " [ 0.  2. -2.  1.]]\n"
     ]
    }
   ],
   "source": [
    "B = RowAdd (A, 0, 1, -2)\n",
    "print(B)"
   ]
  },
  {
   "cell_type": "code",
   "execution_count": 21,
   "metadata": {},
   "outputs": [
    {
     "name": "stdout",
     "output_type": "stream",
     "text": [
      "[[ 1.   1.   1.   0. ]\n",
      " [ 0.   1.  -1.   0.5]]\n"
     ]
    }
   ],
   "source": [
    "C = RowScale (B, 1, 1/2)\n",
    "print(C)"
   ]
  },
  {
   "cell_type": "code",
   "execution_count": 22,
   "metadata": {},
   "outputs": [
    {
     "name": "stdout",
     "output_type": "stream",
     "text": [
      "[[ 1.   0.   2.  -0.5]\n",
      " [ 0.   1.  -1.   0.5]]\n"
     ]
    }
   ],
   "source": [
    "D = RowAdd (C, 1, 0, -1)\n",
    "print(D)"
   ]
  },
  {
   "cell_type": "code",
   "execution_count": 23,
   "metadata": {},
   "outputs": [
    {
     "name": "stdout",
     "output_type": "stream",
     "text": [
      "[[2.]\n",
      " [1.]]\n"
     ]
    }
   ],
   "source": [
    "E = np.array([[2, -0.5], [-1,0.5]])\n",
    "F = np.array([[3], [8]])\n",
    "G = np.array([[1,1],[2,4]])\n",
    "print(E@F)"
   ]
  },
  {
   "cell_type": "markdown",
   "metadata": {},
   "source": [
    "\n",
    "Matriks Inverse=\n",
    "\\begin{bmatrix}\n",
    "2&-0.5\\\\\n",
    "-1&0.5\\\\\n",
    "\\end{bmatrix}\n",
    "\n",
    "X=\n",
    "\\begin{bmatrix}\n",
    "2\\\\\n",
    "1\\\\\n",
    "\\end{bmatrix}\n",
    "B=\n",
    "\\begin{bmatrix}\n",
    "3\\\\\n",
    "8\\\\\n",
    "\\end{bmatrix}\n",
    "\n",
    "\n"
   ]
  },
  {
   "cell_type": "code",
   "execution_count": 24,
   "metadata": {},
   "outputs": [
    {
     "name": "stdout",
     "output_type": "stream",
     "text": [
      "[[4.]]\n"
     ]
    }
   ],
   "source": [
    "Q1= np.array([[3,1,-2,-3]])\n",
    "Q2 = np.dot(P,Q)\n",
    "print(Q1@Q2)"
   ]
  }
 ],
 "metadata": {
  "kernelspec": {
   "display_name": "Python 3 (ipykernel)",
   "language": "python",
   "name": "python3"
  },
  "language_info": {
   "codemirror_mode": {
    "name": "ipython",
    "version": 3
   },
   "file_extension": ".py",
   "mimetype": "text/x-python",
   "name": "python",
   "nbconvert_exporter": "python",
   "pygments_lexer": "ipython3",
   "version": "3.10.13"
  }
 },
 "nbformat": 4,
 "nbformat_minor": 2
}
