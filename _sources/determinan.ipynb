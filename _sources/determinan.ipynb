{
 "cells": [
  {
   "cell_type": "markdown",
   "metadata": {},
   "source": [
    "# Determinan\n",
    "Determinan adalah nilai yang terkait dengan matriks persegi (matriks yang memiliki jumlah baris dan kolom yang sama) yang memberikan informasi tentang sifat geometri, linearitas, dan inversibilitas matriks tersebut. Determinan dinyatakan dengan simbol “det” atau dalam notasi matriks dengan dua garis vertikal di sebelah matriks. Untuk matriks A, determinan biasanya dinyatakan sebagai det(A)."
   ]
  },
  {
   "cell_type": "markdown",
   "metadata": {},
   "source": [
    "## Sifat Sifat determinant\n",
    "\n"
   ]
  },
  {
   "cell_type": "markdown",
   "metadata": {},
   "source": [
    "1. Determinan dari matrix indentitas adalah 1"
   ]
  },
  {
   "cell_type": "code",
   "execution_count": 1,
   "metadata": {},
   "outputs": [],
   "source": [
    "def RowSwap(A,k,l):\n",
    "# =============================================================================\n",
    "#     A is a NumPy array.  RowSwap will return duplicate array with rows\n",
    "#     k and l swapped.\n",
    "# =============================================================================\n",
    "    m = A.shape[0]  # m is number of rows in A\n",
    "    n = A.shape[1]  # n is number of columns in A\n",
    "\n",
    "    B = np.copy(A).astype('float64')\n",
    "\n",
    "    for j in range(n):\n",
    "        temp = B[k][j]\n",
    "        B[k][j] = B[l][j]\n",
    "        B[l][j] = temp\n",
    "\n",
    "    return B\n",
    "\n",
    "def RowScale(A,k,scale):\n",
    "# =============================================================================\n",
    "#     A is a NumPy array.  RowScale will return duplicate array with the\n",
    "#     entries of row k multiplied by scale.\n",
    "# =============================================================================\n",
    "    m = A.shape[0]  # m is number of rows in A\n",
    "    n = A.shape[1]  # n is number of columns in A\n",
    "\n",
    "    B = np.copy(A).astype('float64')\n",
    "\n",
    "    for j in range(n):\n",
    "        B[k][j] *= scale\n",
    "\n",
    "    return B\n",
    "\n",
    "def RowAdd(A,k,l,scale):\n",
    "# =============================================================================\n",
    "#     A is a numpy array.  RowAdd will return duplicate array with row\n",
    "#     l modifed.  The new values will be the old values of row l added to\n",
    "#     the values of row k, multiplied by scale.\n",
    "# =============================================================================\n",
    "    m = A.shape[0]  # m is number of rows in A\n",
    "    n = A.shape[1]  # n is number of columns in A\n",
    "\n",
    "    B = np.copy(A).astype('float64')\n",
    "\n",
    "    for j in range(n):\n",
    "        B[l][j] += B[k][j]*scale\n",
    "\n",
    "    return B"
   ]
  },
  {
   "cell_type": "code",
   "execution_count": 2,
   "metadata": {},
   "outputs": [],
   "source": [
    "import numpy as np\n",
    "A=np.array([[1,1],[2,4]])\n",
    "B=np.array([[1,2,3,],[4,5,6],[8,9,0]])\n",
    "C=np.array([[1,0],[0,1]])\n",
    "D=np.array([[1,0,0],[0,1,0],[0,0,1]])"
   ]
  },
  {
   "cell_type": "code",
   "execution_count": 3,
   "metadata": {},
   "outputs": [
    {
     "name": "stdout",
     "output_type": "stream",
     "text": [
      "Matriks C = \n",
      " [[1 0]\n",
      " [0 1]] : determinan nya adalah 1.0\n",
      "\n",
      "Matriks D = \n",
      " [[1 0 0]\n",
      " [0 1 0]\n",
      " [0 0 1]] : determinan nya adalah 1.0\n"
     ]
    }
   ],
   "source": [
    "print(\"Matriks C = \\n\", C, \": determinan nya adalah\", np.linalg.det(C))\n",
    "print()\n",
    "print(\"Matriks D = \\n\", D,\": determinan nya adalah\", np.linalg.det(D))\n"
   ]
  },
  {
   "cell_type": "code",
   "execution_count": 4,
   "metadata": {},
   "outputs": [
    {
     "name": "stdout",
     "output_type": "stream",
     "text": [
      "1.0 1.0\n"
     ]
    }
   ],
   "source": [
    "E = np.linalg.det(C)\n",
    "F =np.linalg.det(D)\n",
    "print(E,F)"
   ]
  },
  {
   "cell_type": "markdown",
   "metadata": {},
   "source": [
    "2.\n",
    "$\n",
    "det(C) = det(AB) = de(A).det(B) \\\\\n",
    "det(I) = det(A).det(A^{-1}) \\\\\n",
    "det(A^{-1}) = 1/det(A) \\\\\n",
    "$"
   ]
  },
  {
   "cell_type": "code",
   "execution_count": 5,
   "metadata": {},
   "outputs": [
    {
     "name": "stdout",
     "output_type": "stream",
     "text": [
      "determinan A :  2\n",
      "determinan B :  0\n",
      "det.A x det.B : 1\n",
      "[[1. 0.]\n",
      " [0. 1.]]\n"
     ]
    }
   ],
   "source": [
    "A = np.array([[1,1], [2,4]])\n",
    "B = np.linalg.inv(A)\n",
    "A1 = np.linalg.det(A)\n",
    "B1 = np.linalg.det(B)\n",
    "\n",
    "print(\"determinan A : \", round(A1))\n",
    "print(\"determinan B : \",round(B1))\n",
    "C = A1*B1\n",
    "print(\"det.A x det.B :\",round(C))\n",
    "print(A@B)"
   ]
  },
  {
   "cell_type": "markdown",
   "metadata": {},
   "source": [
    "3. Menukar baris pada matriks akan merubah tanda determinan"
   ]
  },
  {
   "cell_type": "code",
   "execution_count": 6,
   "metadata": {},
   "outputs": [
    {
     "name": "stdout",
     "output_type": "stream",
     "text": [
      "determinan matriks D :  5\n"
     ]
    }
   ],
   "source": [
    "import numpy as np\n",
    "D = np.array([[1,4,2], [1,1,1],[3,2,1]])\n",
    "E = np.linalg.det(D)\n",
    "F = round(E)\n",
    "print(\"determinan matriks D : \",F)"
   ]
  },
  {
   "cell_type": "code",
   "execution_count": 7,
   "metadata": {},
   "outputs": [
    {
     "name": "stdout",
     "output_type": "stream",
     "text": [
      "determinan matriks D : -5\n"
     ]
    }
   ],
   "source": [
    "D1 = np.array([[1,1,1], [1,4,2],[3,2,1]])\n",
    "D2 = np.linalg.det(D1)\n",
    "print(\"determinan matriks D :\", round(D2))"
   ]
  },
  {
   "cell_type": "markdown",
   "metadata": {},
   "source": [
    "4.Jika menukar kolom pada suatu matriks, maka akan mengubah tanda dari determinan."
   ]
  },
  {
   "cell_type": "code",
   "execution_count": 8,
   "metadata": {},
   "outputs": [
    {
     "name": "stdout",
     "output_type": "stream",
     "text": [
      "matriks D :\n",
      " [[1 4 2]\n",
      " [1 1 1]\n",
      " [3 2 1]]\n",
      "determinan D : 5\n",
      "matriks D1 :\n",
      " [[4 1 2]\n",
      " [1 1 1]\n",
      " [2 3 1]]\n",
      "determinan D1: -5\n"
     ]
    }
   ],
   "source": [
    "import numpy as np\n",
    "D = np.array([[1,4,2], [1,1,1],[3,2,1]])\n",
    "E = np.linalg.det(D)\n",
    "F = round(E)\n",
    "print(\"matriks D :\\n\", D)\n",
    "print(\"determinan D :\", F)\n",
    "D1 = np.array([[4,1,2], [1,1,1],[2,3,1]])\n",
    "E1 = np.linalg.det(D1)\n",
    "F1 = round(E1)\n",
    "print(\"matriks D1 :\\n\", D1)\n",
    "print(\"determinan D1:\", F1)"
   ]
  },
  {
   "cell_type": "markdown",
   "metadata": {},
   "source": [
    "5. jika matriks memiliki baris kelipatan dari suatu baris atau kolom yang lain pada matriks maka determinan nya sama dengan 0"
   ]
  },
  {
   "cell_type": "markdown",
   "metadata": {},
   "source": [
    "6. jika matriks memiliki baris kelipatan dari suatu baris atau kolom yang lain pada matriks maka determinan nya sama dengan 0"
   ]
  },
  {
   "cell_type": "code",
   "execution_count": 9,
   "metadata": {},
   "outputs": [
    {
     "name": "stdout",
     "output_type": "stream",
     "text": [
      "0.0\n",
      "0.0\n"
     ]
    }
   ],
   "source": [
    "A = np.array([[1,4,2], [2,8,4], [3,2,1]])\n",
    "B = np.array([[1,2,1], [4,8,4], [1,4,1]])\n",
    "detA = np.linalg.det(A)\n",
    "detB = np.linalg.det(B)\n",
    "print(detA)\n",
    "print(detB)"
   ]
  },
  {
   "cell_type": "markdown",
   "metadata": {},
   "source": [
    "7.- determinan A tranpose = determinan A\n",
    "$$\n",
    "det(A^T) = det(A)\n",
    "$$"
   ]
  },
  {
   "cell_type": "code",
   "execution_count": 10,
   "metadata": {},
   "outputs": [
    {
     "name": "stdout",
     "output_type": "stream",
     "text": [
      "determinan A : \n",
      " 5\n",
      "determinan A transpose :\n",
      " 5\n"
     ]
    }
   ],
   "source": [
    "# det A = det A transpose\n",
    "import numpy as np\n",
    "A = np.array([[1,4,2], [1,1,1],[3,2,1]])\n",
    "A_T = np.transpose(A)\n",
    "B = np.linalg.det(A)\n",
    "C = np.linalg.det(A_T)\n",
    "print(\"determinan A : \\n\", round(B))\n",
    "print(\"determinan A transpose :\\n\", round(C))"
   ]
  },
  {
   "cell_type": "markdown",
   "metadata": {},
   "source": [
    "8.Matriks segitiga atas : jika dibawah diagonal utama [1,1,1] \n",
    " adalah 0, meskipun diatas diagonal utama tidak nol. Sedangkan Matriks segitiga bawah : jika diatas diagonal utama [1,1,1] adalah 0, meskipun dibawah diagonal utama tidak nol. jika melakukan operasi baris elementer tidak akan merubah determinan matriks tersebut."
   ]
  },
  {
   "cell_type": "code",
   "execution_count": 11,
   "metadata": {},
   "outputs": [
    {
     "name": "stdout",
     "output_type": "stream",
     "text": [
      "[[1 4 2]\n",
      " [1 1 1]\n",
      " [3 2 1]]\n",
      "determinan adalah :  5\n"
     ]
    }
   ],
   "source": [
    "import numpy as np \n",
    "A = np.array([[1,4,2], [1,1,1],[3,2,1]])\n",
    "print(A)\n",
    "A1 = np.linalg.det(A)\n",
    "print(\"determinan adalah : \", round(A1))"
   ]
  },
  {
   "cell_type": "code",
   "execution_count": 12,
   "metadata": {},
   "outputs": [
    {
     "name": "stdout",
     "output_type": "stream",
     "text": [
      "[[ 1.  4.  2.]\n",
      " [ 0. -3. -1.]\n",
      " [ 3.  2.  1.]]\n",
      "deteminan setelah ada Operasi baris elemen :  5\n"
     ]
    }
   ],
   "source": [
    "B = RowAdd(A, 0, 1, -1)\n",
    "print(B)\n",
    "B1 = np.linalg.det(B)\n",
    "print(\"deteminan setelah ada Operasi baris elemen : \", round(B1))"
   ]
  }
 ],
 "metadata": {
  "kernelspec": {
   "display_name": "Python 3 (ipykernel)",
   "language": "python",
   "name": "python3"
  },
  "language_info": {
   "codemirror_mode": {
    "name": "ipython",
    "version": 3
   },
   "file_extension": ".py",
   "mimetype": "text/x-python",
   "name": "python",
   "nbconvert_exporter": "python",
   "pygments_lexer": "ipython3",
   "version": "3.10.13"
  }
 },
 "nbformat": 4,
 "nbformat_minor": 2
}
