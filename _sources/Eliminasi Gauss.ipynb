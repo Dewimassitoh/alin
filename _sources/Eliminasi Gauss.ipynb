{
 "cells": [
  {
   "cell_type": "markdown",
   "metadata": {},
   "source": [
    "# Sistem dengan tak terhingga penyelsaian\n"
   ]
  },
  {
   "cell_type": "markdown",
   "metadata": {},
   "source": [
    "## **menyelesaikan sistem linear menggunakan metode eliminasi gauss**\n",
    "Eliminasi Gauss, atau metode Gauss, adalah algoritma yang digunakan untuk menyelesaikan sistem persamaan linear. eliminasi Gauss melakukan serangkaian operasi baris dasar untuk \"menyederhanakan\" baris-baris matriks. Hasil dari bagian ini dapat memberitahu apakah sistem persamaan linear tidak memiliki solusi,atau memiliki tak hingga solusi."
   ]
  },
  {
   "cell_type": "markdown",
   "metadata": {},
   "source": [
    "**Ada tiga jenis operasi baris dasar yang dapat dilakukan pada baris matriks tersebut:**\n",
    "\n",
    "1.Menukar posisi dua baris.\n",
    "\n",
    "2.Mengalikan suatu baris dengan bukan nol .\n",
    "\n",
    "3.Menambahkan suatu baris dengan suatu kelipatan dari baris yang lain"
   ]
  },
  {
   "cell_type": "markdown",
   "metadata": {},
   "source": [
    " **Contoh penyelsaian sistem linear mengunakan eliminasi gauss**\n",
    "\n",
    "\\begin{align*} \n",
    "x_1+2x_2+x_3=11\\\\  \n",
    "2x_1-x_2+4x_3=4\\\\\n",
    "3x_1+8x_2=38\\\\\n",
    "\\end{align*}\n",
    "\n",
    "\n"
   ]
  },
  {
   "cell_type": "code",
   "execution_count": 1,
   "metadata": {},
   "outputs": [],
   "source": [
    "def RowSwap(A,k,l):\n",
    "# =============================================================================\n",
    "#     A is a NumPy array.  RowSwap will return duplicate array with rows\n",
    "#     k and l swapped.\n",
    "# =============================================================================\n",
    "    m = A.shape[0]  # m is number of rows in A\n",
    "    n = A.shape[1]  # n is number of columns in A\n",
    "\n",
    "    B = np.copy(A).astype('float64')\n",
    "\n",
    "    for j in range(n):\n",
    "        temp = B[k][j]\n",
    "        B[k][j] = B[l][j]\n",
    "        B[l][j] = temp\n",
    "\n",
    "    return B\n",
    "\n",
    "def RowScale(A,k,scale):\n",
    "# =============================================================================\n",
    "#     A is a NumPy array.  RowScale will return duplicate array with the\n",
    "#     entries of row k multiplied by scale.\n",
    "# =============================================================================\n",
    "    m = A.shape[0]  # m is number of rows in A\n",
    "    n = A.shape[1]  # n is number of columns in A\n",
    "\n",
    "    B = np.copy(A).astype('float64')\n",
    "\n",
    "    for j in range(n):\n",
    "        B[k][j] *= scale\n",
    "\n",
    "    return B\n",
    "\n",
    "def RowAdd(A,k,l,scale):\n",
    "# =============================================================================\n",
    "#     A is a numpy array.  RowAdd will return duplicate array with row\n",
    "#     l modifed.  The new values will be the old values of row l added to\n",
    "#     the values of row k, multiplied by scale.\n",
    "# =============================================================================\n",
    "    m = A.shape[0]  # m is number of rows in A\n",
    "    n = A.shape[1]  # n is number of columns in A\n",
    "\n",
    "    B = np.copy(A).astype('float64')\n",
    "\n",
    "    for j in range(n):\n",
    "        B[l][j] += B[k][j]*scale\n",
    "\n",
    "    return B"
   ]
  },
  {
   "cell_type": "code",
   "execution_count": 2,
   "metadata": {},
   "outputs": [
    {
     "name": "stdout",
     "output_type": "stream",
     "text": [
      "[[ 1  2  1 11]\n",
      " [ 2 -1  4  4]\n",
      " [ 3  8  0 38]]\n"
     ]
    }
   ],
   "source": [
    "import numpy as np\n",
    "A=np.array([[1,2,1,11],[2,-1,4,4],[3,8,0,38]])\n",
    "print(A)"
   ]
  },
  {
   "cell_type": "code",
   "execution_count": 3,
   "metadata": {},
   "outputs": [
    {
     "name": "stdout",
     "output_type": "stream",
     "text": [
      "[[ 1  2  1 11]\n",
      " [ 2 -1  4  4]\n",
      " [ 3  8  0 38]] \n",
      "\n",
      "[[  1.   2.   1.  11.]\n",
      " [  0.  -5.   2. -18.]\n",
      " [  3.   8.   0.  38.]] \n",
      "\n",
      "[[  1.   2.   1.  11.]\n",
      " [  0.  -5.   2. -18.]\n",
      " [  0.   2.  -3.   5.]] \n",
      "\n",
      "[[ 1.   2.   1.  11. ]\n",
      " [-0.   1.  -0.4  3.6]\n",
      " [ 0.   2.  -3.   5. ]] \n",
      "\n",
      "[[ 1.   2.   1.  11. ]\n",
      " [-0.   1.  -0.4  3.6]\n",
      " [ 0.   0.  -2.2 -2.2]] \n",
      "\n",
      "[[ 1.   2.   1.  11. ]\n",
      " [-0.   1.  -0.4  3.6]\n",
      " [-0.  -0.   1.   1. ]] \n",
      "\n"
     ]
    }
   ],
   "source": [
    "\n",
    "print(A, \"\\n\")\n",
    "\n",
    "A1 = RowAdd(A, 0,1,-2)\n",
    "print(A1, \"\\n\")\n",
    "A2 = RowAdd(A1, 0, 2, -3)\n",
    "print(A2, \"\\n\")\n",
    "A3 = RowScale(A2, 1, -1/5)\n",
    "print(A3, \"\\n\")\n",
    "A4 = RowAdd(A3, 1, 2, -2)\n",
    "print(A4, \"\\n\")\n",
    "A5 = RowScale(A4, 2, -1/2.2)\n",
    "print(A5, \"\\n\")\n"
   ]
  },
  {
   "cell_type": "markdown",
   "metadata": {},
   "source": [
    "\\begin{align*} \n",
    "x_1+2x_2+x_3=11\\\\  \n",
    "-x_3=3.6\\\\\n",
    "x_3=1\\\\\n",
    "\\end{align*}"
   ]
  },
  {
   "cell_type": "code",
   "execution_count": 4,
   "metadata": {},
   "outputs": [
    {
     "name": "stdout",
     "output_type": "stream",
     "text": [
      "\n",
      "x1 = 2.0\n",
      "x2 =  4.0\n",
      "x3 = 1\n",
      "\n"
     ]
    }
   ],
   "source": [
    "x3 = 1\n",
    "x2 = 3.6+(0.4*x3)\n",
    "x1 = 11-((2*x2)+(1*x3))\n",
    "print(f\"\"\"\n",
    "x1 = {x1}\n",
    "x2 =  {x2}\n",
    "x3 = {x3}\n",
    "\"\"\")\n"
   ]
  }
 ],
 "metadata": {
  "kernelspec": {
   "display_name": "Python 3 (ipykernel)",
   "language": "python",
   "name": "python3"
  },
  "language_info": {
   "codemirror_mode": {
    "name": "ipython",
    "version": 3
   },
   "file_extension": ".py",
   "mimetype": "text/x-python",
   "name": "python",
   "nbconvert_exporter": "python",
   "pygments_lexer": "ipython3",
   "version": "3.10.13"
  }
 },
 "nbformat": 4,
 "nbformat_minor": 2
}
