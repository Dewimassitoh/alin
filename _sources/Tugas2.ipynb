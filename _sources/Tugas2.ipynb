{
 "cells": [
  {
   "cell_type": "markdown",
   "metadata": {},
   "source": [
    "# Aljabar matriks"
   ]
  },
  {
   "cell_type": "markdown",
   "metadata": {},
   "source": [
    "## **Matriks**\n",
    "Matriks adalah sekumpulan bilangan yang disusun berdasarkan baris dan kolom, serta ditempatkan di dalam tanda kurung. Nah, tanda kurungnya ini bisa berupa kurung biasa “( )” atau kurung siku “[ ]”, ya. Suatu matriks diberi nama dengan huruf kapital, seperti A, B, C, dan seterusnya\n",
    "\n",
    "\n",
    "\\begin{matrix}\n",
    "    \\\\\n",
    "    A = \\begin{bmatrix}\n",
    "        1 & 3 \\\\\n",
    "        2 & 1\n",
    "    \\end{bmatrix}\n",
    "    \\qquad\n",
    "    B = \\begin{bmatrix}\n",
    "        3 & 0 & 4 \\\\\n",
    "        -1 & -2 & 1\n",
    "    \\end{bmatrix}\n",
    "    \\qquad\n",
    "    C = \\begin{bmatrix}\n",
    "        1 \\\\ \n",
    "        3 \\\\\n",
    "        9\n",
    "    \\end{bmatrix}\n",
    "    \\\\\n",
    "    \\\\\n",
    "\\end{matrix}\n",
    "\n",
    "- Dimensi atau ukuran matrix adalah baris x kolim, contoh matriks $B$ memili ukuran $2x3$ \n",
    "- Matriks yang hanya memiliki 1 kolom, seperti C, biasa disebut vektor. \n",
    "- Elemen matriks dinyatakan dengan huruf kecil dengan subskrip untuk menunjukkan posisi entri dalam matriks."
   ]
  },
  {
   "cell_type": "markdown",
   "metadata": {},
   "source": [
    "### Implementasi dengan numpy"
   ]
  },
  {
   "cell_type": "code",
   "execution_count": 1,
   "metadata": {},
   "outputs": [
    {
     "name": "stdout",
     "output_type": "stream",
     "text": [
      "[[ 3  0  4]\n",
      " [-1 -2  1]]\n"
     ]
    }
   ],
   "source": [
    "import numpy as np\n",
    "A = np.array([[1, 3],[2,1]])\n",
    "B = np.array([[3, 0, 4], [-1, -2, 1]])\n",
    "C = np.array([[-2, 1], [4, 1]])\n",
    "D = np.array([[2],[6]])\n",
    "print(B)"
   ]
  },
  {
   "cell_type": "markdown",
   "metadata": {},
   "source": [
    "### **Operasi-operasi matrik**"
   ]
  },
  {
   "cell_type": "markdown",
   "metadata": {},
   "source": [
    "### **Operasi-operasi matrik**\n",
    "\n",
    "#### Operasi Penjumlahan Matriks\n",
    "Operasi matriks yang pertama kita bahas adalah penjumlahan matriks. Operasi matriks adalah penjumlahan 2 matriks yang letak komponennya sama. Sebenarnya, operasi matriks tidak jauh beda dengan operasi penjumlahan pada umumnya, tapi ada syarat matriks bisa dijumlahkan.\n",
    "\n",
    "\n",
    "\n",
    "\n",
    " \n",
    "\n",
    "\n"
   ]
  },
  {
   "cell_type": "code",
   "execution_count": 2,
   "metadata": {},
   "outputs": [
    {
     "name": "stdout",
     "output_type": "stream",
     "text": [
      "matriks A\n",
      "[[1 3]\n",
      " [2 1]] \n",
      "\n",
      "matriks C\n",
      "[[-2  1]\n",
      " [ 4  1]] \n",
      "\n",
      "hasil matriks A + C\n",
      "[[-1  4]\n",
      " [ 6  2]]\n"
     ]
    }
   ],
   "source": [
    "print(\"matriks A\")\n",
    "print(A,\"\\n\")\n",
    "print(\"matriks C\")\n",
    "print(C,\"\\n\")\n",
    "\n",
    "ac = A + C\n",
    "print(\"hasil matriks A + C\")\n",
    "print(ac)"
   ]
  },
  {
   "cell_type": "markdown",
   "metadata": {},
   "source": [
    "#### Operasi Pengurangan Matriks\n",
    "Sebelumnya kita sudah membahas bagaimana sih operasi penjumlahan matriks. Sekarang, kita akan membahas operasi pengurangan matriks. Sebenarnya, cara pengerjaan penjumlahan dan pengurangan matriks itu konsepnya sama saja, kok. Kamu tinggal mengurangkan masing-masing baris sesuai dengan urutannya. "
   ]
  },
  {
   "cell_type": "code",
   "execution_count": 3,
   "metadata": {},
   "outputs": [
    {
     "name": "stdout",
     "output_type": "stream",
     "text": [
      "matriks C\n",
      "[[-2  1]\n",
      " [ 4  1]] \n",
      "\n",
      "matriks A\n",
      "[[1 3]\n",
      " [2 1]] \n",
      "\n",
      "hasil matriks C - A\n",
      "[[-3 -2]\n",
      " [ 2  0]]\n"
     ]
    }
   ],
   "source": [
    "print(\"matriks C\")\n",
    "print(C,\"\\n\")\n",
    "print(\"matriks A\")\n",
    "print(A,\"\\n\")\n",
    "\n",
    "ca = C - A\n",
    "print(\"hasil matriks C - A\")\n",
    "print(ca)"
   ]
  },
  {
   "cell_type": "markdown",
   "metadata": {},
   "source": [
    "#### Operasi Perkalian Matriks\n",
    "1. Operasi Perkalian Matriks dengan Bilangan Real (Skalar)\n",
    "Perkalian matriks dengan bilangan real (skalar) tidak memiliki persyaratan. Jadi, semua matriks dengan ordo apapun bisa dikalikan dengan bilangan real"
   ]
  },
  {
   "cell_type": "code",
   "execution_count": 4,
   "metadata": {},
   "outputs": [
    {
     "name": "stdout",
     "output_type": "stream",
     "text": [
      "matrix A\n",
      "[[1 3]\n",
      " [2 1]] \n",
      "\n",
      "skalar k\n",
      "2 \n",
      "\n",
      "hasil perkalian matriks A dengan skalar k \n",
      "[[2 6]\n",
      " [4 2]] \n",
      "\n"
     ]
    }
   ],
   "source": [
    "# k adalah skalar dan A adalah matrix\n",
    "\n",
    "k = 2\n",
    "Ak = k * A\n",
    "print(\"matrix A\")\n",
    "print(A,\"\\n\")\n",
    "print(\"skalar k\")\n",
    "print(k,\"\\n\")\n",
    "print(\"hasil perkalian matriks A dengan skalar k \")\n",
    "print(Ak, \"\\n\")\n"
   ]
  },
  {
   "cell_type": "markdown",
   "metadata": {},
   "source": [
    "#### Perkalian 2 matriks,menggunakan perulangan"
   ]
  },
  {
   "cell_type": "code",
   "execution_count": 5,
   "metadata": {},
   "outputs": [
    {
     "name": "stdout",
     "output_type": "stream",
     "text": [
      "Matriks A [[9, 5], [1, 3], [2, 4]] \n",
      "\n",
      "Matriks B [[1, 2, 3], [3, 2, 1]] \n",
      "\n",
      "Panjang baris dan kolom:\n",
      "Matriks A\n",
      "3 2 \n",
      "\n",
      "Matriks B\n",
      "2 3 \n",
      "\n",
      "Hasil dari perkalian matrix:\n",
      "[24, 28, 32]\n",
      "[10, 8, 6]\n",
      "[14, 12, 10]\n"
     ]
    }
   ],
   "source": [
    "listA = [\n",
    "    [9, 5],\n",
    "    [1, 3],\n",
    "    [2, 4]\n",
    "]\n",
    "\n",
    "listB = [\n",
    "    [1, 2, 3],\n",
    "    [3, 2, 1]\n",
    "]\n",
    "\n",
    "print(\"Matriks A\", listA, \"\\n\")\n",
    "print(\"Matriks B\", listB, \"\\n\")\n",
    "\n",
    "print(\"Panjang baris dan kolom:\")\n",
    "\n",
    "print(\"Matriks A\")\n",
    "print(len(listA), len(listA[0]), \"\\n\")\n",
    "\n",
    "print(\"Matriks B\")\n",
    "print(len(listB), len(listB[0]), \"\\n\")\n",
    "\n",
    "# n adalah panjang baris matrix listA\n",
    "n = len(listA)\n",
    "\n",
    "# adalah panjang kolom matrix listA dan panjang baris matrix listB\n",
    "m = len(listA[0])\n",
    "\n",
    "# p adalah panjang baris matrix listB\n",
    "p = len(listB[0])\n",
    "\n",
    "hasil = []\n",
    "# perulangan terjadi sebanyak panjang baris listA\n",
    "for i in range(0, n):\n",
    "    hasil1 = []\n",
    "    # perulangan terjadi sebanyak panjang baris listB\n",
    "    for j in range(0, p):\n",
    "        jumlah = 0\n",
    "        for k in range(0, m):\n",
    "            jumlah += listA[i][k] * listB[k][j]\n",
    "        hasil1.append(jumlah)\n",
    "    hasil.append(hasil1)\n",
    "\n",
    "print(\"Hasil dari perkalian matrix:\")\n",
    "for row in hasil:\n",
    "    print(row)\n"
   ]
  }
 ],
 "metadata": {
  "kernelspec": {
   "display_name": "Python 3 (ipykernel)",
   "language": "python",
   "name": "python3"
  },
  "language_info": {
   "codemirror_mode": {
    "name": "ipython",
    "version": 3
   },
   "file_extension": ".py",
   "mimetype": "text/x-python",
   "name": "python",
   "nbconvert_exporter": "python",
   "pygments_lexer": "ipython3",
   "version": "3.10.13"
  }
 },
 "nbformat": 4,
 "nbformat_minor": 2
}
