{
 "cells": [
  {
   "cell_type": "markdown",
   "metadata": {},
   "source": [
    "# Algoritma Pagerank\n",
    "Algoritma PageRank adalah algoritma yang digunakan oleh mesin pencari untuk menentukan peringkat halaman web berdasarkan pentingnya halaman-halaman\n",
    "Algoritme PageRank adalah bagaimana memulai dari masalah yang kompleks dan berakhir dengan solusi yang sangat sederhana. Dalam posting ini, saya akan mengajari Anda ide dan teori di balik algoritma PageRank. Anda hanya perlu memiliki beberapa dasar dalam aljabar dan Rantai Markov. Di sini, kami akan menggunakan peringkat halaman web sebagai kasus penggunaan untuk menggambarkan algoritma PageRank."
   ]
  },
  {
   "cell_type": "markdown",
   "metadata": {},
   "source": [
    "**Cara kerja algoritma pagerank(power method)**\n",
    "\n",
    "1.Representasi Graf:\n",
    "\n",
    "Web direpresentasikan sebagai graf berarah, di mana setiap node merepresentasikan halaman web, dan setiap edge merepresentasikan link dari satu halaman ke halaman lainnya.\n",
    "\n",
    "\n"
   ]
  },
  {
   "cell_type": "markdown",
   "metadata": {},
   "source": [
    "**Hitung matriks berikut**"
   ]
  },
  {
   "cell_type": "code",
   "execution_count": 10,
   "metadata": {},
   "outputs": [
    {
     "data": {
      "image/png": "[encoded data removed]",
      "text/plain": [
       "<Figure size 800x600 with 1 Axes>"
      ]
     },
     "metadata": {},
     "output_type": "display_data"
    }
   ],
   "source": [
    "import networkx as nx\n",
    "import matplotlib.pyplot as plt\n",
    "\n",
    "# Membuat graf terarah\n",
    "G = nx.DiGraph()\n",
    "\n",
    "# Menambahkan simpul (node)\n",
    "nodes = [0, 1, 2, 3, 4]\n",
    "G.add_nodes_from(nodes)\n",
    "\n",
    "# Menambahkan tepi (edges) sesuai dengan gambar\n",
    "edges = [\n",
    "    (0, 3), (0, 2), (0, 4),\n",
    "    (1, 0), (2, 1), (3, 1), (1, 4),\n",
    "    (2, 3), (4, 2),\n",
    "    (3, 4),\n",
    "    (4, 0), (4, 1)\n",
    "]\n",
    "\n",
    "G.add_edges_from(edges)\n",
    "\n",
    "# Menentukan posisi node secara manual agar lebih mirip dengan gambar\n",
    "pos = {\n",
    "    0: (0, 0),\n",
    "    1: (1, 2),\n",
    "    2: (1, 0),\n",
    "    3: (2, 1),\n",
    "    4: (0, 1)\n",
    "}\n",
    "\n",
    "# Menggambar graf\n",
    "plt.figure(figsize=(8, 6))\n",
    "nx.draw(G, pos, with_labels=True, node_size=700, node_color=\"skyblue\", font_size=16, font_color=\"yellow\", font_weight=\"bold\", edge_color=\"purple\", arrowsize=20, arrowstyle='-|>')\n",
    "plt.show()\n"
   ]
  },
  {
   "cell_type": "markdown",
   "metadata": {},
   "source": [
    "\n",
    "\n",
    "$$\n",
    "A = \\begin{bmatrix}\n",
    "    0 & 0 & 0 & 0 & 1/3 \\\\\n",
    "    0 & 0 & 1/2 & 1 & 1/3 \\\\\n",
    "    1/3 & 0 & 0 & 0 & 1/3 \\\\\n",
    "    1/3 & 0 & 1/2 & 0 & 0 \\\\\n",
    "    1/3 & 1 & 0 & 0 & 0 \\\\\n",
    "\\end{bmatrix}\n",
    "$$\n",
    "\n",
    "$$\n",
    "V0 = \\begin{bmatrix}\n",
    "    0.2 \\\\ \n",
    "    0.2 \\\\ \n",
    "    0.2 \\\\\n",
    "    0.2 \\\\ \n",
    "    0.2 \\\\\n",
    "\\end{bmatrix}\n",
    "$$"
   ]
  },
  {
   "cell_type": "markdown",
   "metadata": {},
   "source": [
    "$$\n",
    "\\begin{aligned}\n",
    "& \\mathrm{V} 1= \\\\\n",
    "& \\text { [ [0.06666667] } \\\\\n",
    "& \\text { [0.36666667] } \\\\\n",
    "& \\text { [0.13333333] } \\\\\n",
    "& \\text { [0.16666667] } \\\\\n",
    "& \\text { [0.26666667]] } \\\\\n",
    "& \\mathrm{V} 2= \\\\\n",
    "& \\text { [ [0.08888889] } \\\\\n",
    "& \\text { [0.32222222] } \\\\\n",
    "& \\text { [0.11111111] } \\\\\n",
    "& \\text { [0.08888889] } \\\\\n",
    "& \\text { [0.38888889]] } \\\\\n",
    "& \\mathrm{V} 3= \\\\\n",
    "& \\text { [[0.12962963] } \\\\\n",
    "& \\text { [0.27407407] } \\\\\n",
    "& \\text { [0.15925926] } \\\\\n",
    "& \\text { [0.08518519] } \\\\\n",
    "& \\text { [0.35185185]] } \\\\\n",
    "& \\mathrm{V} 4= \\\\\n",
    "& \\text { [ [0.11728395] } \\\\\n",
    "& \\text { [0.28209877] } \\\\\n",
    "& \\text { [0.16049383] } \\\\\n",
    "& \\text { [0.12283951] } \\\\\n",
    "& \\text { [0.31728395]] } \\\\\n",
    "& \\mathrm{V} 5 \\\\\n",
    "& \\text { [0.30884774] } \\\\\n",
    "& \\text { [0.14485597] } \\\\\n",
    "& \\text { [0.11934156] } \\\\\n",
    "& [0.32119342]] \\\\\n",
    "&\n",
    "\\end{aligned}\n",
    "$$"
   ]
  },
  {
   "cell_type": "markdown",
   "metadata": {},
   "source": [
    "\n",
    "$ V_1 = (0.10576132 - 0.11728395)^2 $\n",
    "\n",
    "$ V_2 = (0.30884774 - 0.28209877)^2 $\n",
    "\n",
    "$ V_3 = (0.14485597 - 0.16049383)^2 $\n",
    "\n",
    "$ V_4 = (0.11934156 - 0.12283951)^2 $\n",
    "\n",
    "$ V_5 = (0.32119342 - 0.31728395)^2 $\n",
    "\n",
    "$ V = V_1 + V_2 + V_3 + V_4 + V_5 $\n",
    "$ V = 0.0011203406734407993 $"
   ]
  },
  {
   "cell_type": "markdown",
   "metadata": {},
   "source": [
    "**contoh mencari pagerank dengan code**"
   ]
  },
  {
   "cell_type": "code",
   "execution_count": 2,
   "metadata": {},
   "outputs": [
    {
     "name": "stdout",
     "output_type": "stream",
     "text": [
      "hasil konvargen =  [0.11150739 0.293549   0.14974089 0.11342783 0.33177488]\n",
      "jumlah iterasi =  7\n",
      "Nilai PageRank yang diurutkan:\n",
      "Halaman 4: PageRank = 0.3317748818777625\n",
      "Halaman 3: PageRank = 0.11342783112330437\n",
      "Halaman 2: PageRank = 0.149740893156531\n",
      "Halaman 1: PageRank = 0.29354900167657366\n",
      "Halaman 0: PageRank = 0.11150739216582836\n"
     ]
    }
   ],
   "source": [
    "# Perhitungan Menggunakan Perulangan\n",
    "import numpy as np\n",
    "\n",
    "A = np.array([[0, 0, 0, 0, 1/3],[0, 0, 1/2, 1, 1/3],[1/3, 0, 0, 0, 1/3],[1/3, 0, 1/2, 0, 0],[1/3, 1, 0, 0, 0]])\n",
    "V = np.array([1/5, 1/5, 1/5, 1/5, 1/5])\n",
    "\n",
    "def perkalianMatrix(A, V, conv=0.01, itr=0):\n",
    "    A_ = A.dot(V)\n",
    "    if np.linalg.norm(A_ - V) < conv:\n",
    "        return A_, itr\n",
    "    else:\n",
    "        return perkalianMatrix(A, A_, conv, itr+1)\n",
    "\n",
    "hasil, itr = perkalianMatrix(A, V)\n",
    "print(\"hasil konvargen = \", hasil)\n",
    "terurut = sorted(range(len(hasil)), reverse=True)\n",
    "print(\"jumlah iterasi = \", itr)\n",
    "print(\"Nilai PageRank yang diurutkan:\")\n",
    "for idx in terurut:\n",
    "    print(f\"Halaman {idx}: PageRank = {hasil[idx]}\")"
   ]
  }
 ],
 "metadata": {
  "kernelspec": {
   "display_name": "Python 3 (ipykernel)",
   "language": "python",
   "name": "python3"
  },
  "language_info": {
   "codemirror_mode": {
    "name": "ipython",
    "version": 3
   },
   "file_extension": ".py",
   "mimetype": "text/x-python",
   "name": "python",
   "nbconvert_exporter": "python",
   "pygments_lexer": "ipython3",
   "version": "3.10.13"
  }
 },
 "nbformat": 4,
 "nbformat_minor": 2
}
